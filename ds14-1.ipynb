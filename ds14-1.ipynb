{
 "cells": [
  {
   "cell_type": "code",
   "execution_count": 1,
   "id": "ef109d31",
   "metadata": {},
   "outputs": [],
   "source": [
    "import joblib"
   ]
  },
  {
   "cell_type": "code",
   "execution_count": 2,
   "id": "4f2de188",
   "metadata": {},
   "outputs": [],
   "source": [
    "scaler= joblib.load('./KNN_STANDARD_SCALER.pkl')"
   ]
  },
  {
   "cell_type": "code",
   "execution_count": 3,
   "id": "e7f1c558",
   "metadata": {},
   "outputs": [],
   "source": [
    "model= joblib.load('./CANNNON_RACIST_CALIFORNIA.pkl')"
   ]
  },
  {
   "cell_type": "code",
   "execution_count": 4,
   "id": "54853ed2",
   "metadata": {},
   "outputs": [],
   "source": [
    "data=[[3.3292, 31., 4.68220339, 1047., 2.21822034, 33.94 , -118.12],\n",
    "       [4.8839, 16., 5.80248619, 1667., 2.30248619, 35.34 , -119.07],\n",
    "       [4.337 , 37., 4.03532009, 1075. , 2.37306843, 33.99, -118.46],\n",
    "       [1.8571,40.,2.80804954,1426.,4.41486068,   34.05 , -118.29 ],\n",
    "       [3.1944,50., 4.99751244, 1130.,2.81094527,34.05, -118.34 ]]"
   ]
  },
  {
   "cell_type": "code",
   "execution_count": 5,
   "id": "5b7fe985",
   "metadata": {},
   "outputs": [
    {
     "name": "stderr",
     "output_type": "stream",
     "text": [
      "C:\\Users\\HP\\New folder\\New folder\\lib\\site-packages\\sklearn\\base.py:420: UserWarning: X does not have valid feature names, but StandardScaler was fitted with feature names\n",
      "  warnings.warn(\n"
     ]
    }
   ],
   "source": [
    "data_scaled= scaler.transform(data)"
   ]
  },
  {
   "cell_type": "code",
   "execution_count": 6,
   "id": "a8335f70",
   "metadata": {},
   "outputs": [
    {
     "data": {
      "text/plain": [
       "array([2.2294, 1.5428, 2.7486, 1.5636, 1.8886])"
      ]
     },
     "execution_count": 6,
     "metadata": {},
     "output_type": "execute_result"
    }
   ],
   "source": [
    "model.predict(data_scaled)"
   ]
  },
  {
   "cell_type": "code",
   "execution_count": null,
   "id": "b16387a9",
   "metadata": {},
   "outputs": [],
   "source": []
  }
 ],
 "metadata": {
  "kernelspec": {
   "display_name": "Python 3 (ipykernel)",
   "language": "python",
   "name": "python3"
  },
  "language_info": {
   "codemirror_mode": {
    "name": "ipython",
    "version": 3
   },
   "file_extension": ".py",
   "mimetype": "text/x-python",
   "name": "python",
   "nbconvert_exporter": "python",
   "pygments_lexer": "ipython3",
   "version": "3.10.9"
  }
 },
 "nbformat": 4,
 "nbformat_minor": 5
}
