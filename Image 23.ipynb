{
 "cells": [
  {
   "cell_type": "code",
   "execution_count": 1,
   "id": "b2c6e575",
   "metadata": {},
   "outputs": [],
   "source": [
    "import numpy as np\n",
    "import matplotlib.pyplot as plt\n",
    "import pandas as pd"
   ]
  },
  {
   "cell_type": "code",
   "execution_count": 2,
   "id": "5558669a",
   "metadata": {},
   "outputs": [],
   "source": [
    "from keras.models import Sequential\n",
    "from keras.layers import Dense, Dropout, Flatten, MaxPooling2D, Conv2D"
   ]
  },
  {
   "cell_type": "code",
   "execution_count": 3,
   "id": "073bb2bc",
   "metadata": {},
   "outputs": [],
   "source": [
    "from keras.optimizers import Adam"
   ]
  },
  {
   "cell_type": "code",
   "execution_count": 4,
   "id": "975fa872",
   "metadata": {},
   "outputs": [],
   "source": [
    "from sklearn.metrics import classification_report\n",
    "from collections import Counter"
   ]
  },
  {
   "cell_type": "code",
   "execution_count": 5,
   "id": "aed3dbff",
   "metadata": {},
   "outputs": [],
   "source": [
    "from keras.utils import to_categorical"
   ]
  },
  {
   "cell_type": "code",
   "execution_count": 6,
   "id": "0862b7f5",
   "metadata": {},
   "outputs": [],
   "source": [
    "from keras.datasets import cifar10"
   ]
  },
  {
   "cell_type": "code",
   "execution_count": 7,
   "id": "0536352f",
   "metadata": {},
   "outputs": [],
   "source": [
    "(x_train, y_train), (x_test, y_test) = cifar10.load_data()"
   ]
  },
  {
   "cell_type": "code",
   "execution_count": 8,
   "id": "1ff507bc",
   "metadata": {},
   "outputs": [
    {
     "data": {
      "text/plain": [
       "(50000, 32, 32, 3)"
      ]
     },
     "execution_count": 8,
     "metadata": {},
     "output_type": "execute_result"
    }
   ],
   "source": [
    "x_train.shape"
   ]
  },
  {
   "cell_type": "code",
   "execution_count": 9,
   "id": "13b6aba2",
   "metadata": {},
   "outputs": [],
   "source": [
    "objects = ['airplane','automobile','bird', 'catdeer', 'dog', 'frog', 'horse','ship', 'truck']"
   ]
  },
  {
   "cell_type": "code",
   "execution_count": 10,
   "id": "1f8490c1",
   "metadata": {},
   "outputs": [
    {
     "data": {
      "image/png": "[encoded data removed]",
      "text/plain": [
       "<Figure size 640x480 with 1 Axes>"
      ]
     },
     "metadata": {},
     "output_type": "display_data"
    }
   ],
   "source": [
    "image_index = 500\n",
    "obj_name= objects[y_train[image_index][0]]  #for zeroth element\n",
    "plt.imshow(x_train[image_index])\n",
    "plt.title(obj_name)\n",
    "plt.show()"
   ]
  },
  {
   "cell_type": "code",
   "execution_count": 11,
   "id": "774e34b7",
   "metadata": {},
   "outputs": [
    {
     "name": "stdout",
     "output_type": "stream",
     "text": [
      "Model: \"sequential\"\n",
      "_________________________________________________________________\n",
      " Layer (type)                Output Shape              Param #   \n",
      "=================================================================\n",
      " conv2d (Conv2D)             (None, 30, 30, 5)         140       \n",
      "                                                                 \n",
      " dropout (Dropout)           (None, 30, 30, 5)         0         \n",
      "                                                                 \n",
      " max_pooling2d (MaxPooling2  (None, 15, 15, 5)         0         \n",
      " D)                                                              \n",
      "                                                                 \n",
      " conv2d_1 (Conv2D)           (None, 13, 13, 10)        460       \n",
      "                                                                 \n",
      " dropout_1 (Dropout)         (None, 13, 13, 10)        0         \n",
      "                                                                 \n",
      " max_pooling2d_1 (MaxPoolin  (None, 6, 6, 10)          0         \n",
      " g2D)                                                            \n",
      "                                                                 \n",
      " conv2d_2 (Conv2D)           (None, 4, 4, 20)          1820      \n",
      "                                                                 \n",
      " dropout_2 (Dropout)         (None, 4, 4, 20)          0         \n",
      "                                                                 \n",
      " conv2d_3 (Conv2D)           (None, 2, 2, 40)          7240      \n",
      "                                                                 \n",
      " dropout_3 (Dropout)         (None, 2, 2, 40)          0         \n",
      "                                                                 \n",
      " max_pooling2d_2 (MaxPoolin  (None, 1, 1, 40)          0         \n",
      " g2D)                                                            \n",
      "                                                                 \n",
      " flatten (Flatten)           (None, 40)                0         \n",
      "                                                                 \n",
      " dense (Dense)               (None, 64)                2624      \n",
      "                                                                 \n",
      " dropout_4 (Dropout)         (None, 64)                0         \n",
      "                                                                 \n",
      " dense_1 (Dense)             (None, 10)                650       \n",
      "                                                                 \n",
      "=================================================================\n",
      "Total params: 12934 (50.52 KB)\n",
      "Trainable params: 12934 (50.52 KB)\n",
      "Non-trainable params: 0 (0.00 Byte)\n",
      "_________________________________________________________________\n"
     ]
    }
   ],
   "source": [
    "cnn = Sequential()\n",
    "\n",
    "cnn.add(Conv2D(input_shape= (32, 32, 3), \n",
    "               filters= 5, \n",
    "               kernel_size= (3, 3), activation = 'relu'))\n",
    "cnn.add(Dropout(0.2))\n",
    "cnn.add(MaxPooling2D())\n",
    "\n",
    "cnn.add(Conv2D(filters= 10, \n",
    "               kernel_size= (3, 3), activation = 'relu'))\n",
    "cnn.add(Dropout(0.2))\n",
    "cnn.add(MaxPooling2D())\n",
    "\n",
    "cnn.add(Conv2D(filters= 20, \n",
    "               kernel_size= (3, 3), activation = 'relu'))\n",
    "cnn.add(Dropout(0.2))\n",
    "#cnn.add(MaxPooling2D())\n",
    "\n",
    "cnn.add(Conv2D(filters= 40, \n",
    "               kernel_size= (3, 3), activation = 'relu'))\n",
    "cnn.add(Dropout(0.2))\n",
    "cnn.add(MaxPooling2D())\n",
    "\n",
    "cnn.add(Flatten())\n",
    "\n",
    "cnn.add(Dense(units= 64, activation= 'relu'))\n",
    "cnn.add(Dropout(0.2))\n",
    "cnn.add(Dense(units=10, activation= 'softmax'))\n",
    "\n",
    "cnn.compile(loss= 'categorical_crossentropy', metrics= ['acc'], optimizer= 'adam')\n",
    "\n",
    "cnn.summary()"
   ]
  },
  {
   "cell_type": "code",
   "execution_count": 12,
   "id": "bd6abcb9",
   "metadata": {},
   "outputs": [],
   "source": [
    "x_train = x_train / 255\n",
    "x_test = x_test / 255"
   ]
  },
  {
   "cell_type": "code",
   "execution_count": 13,
   "id": "432baa3d",
   "metadata": {},
   "outputs": [
    {
     "data": {
      "text/plain": [
       "array([[6],\n",
       "       [9],\n",
       "       [9],\n",
       "       [4],\n",
       "       [1]], dtype=uint8)"
      ]
     },
     "execution_count": 13,
     "metadata": {},
     "output_type": "execute_result"
    }
   ],
   "source": [
    "y_train[:5]"
   ]
  },
  {
   "cell_type": "code",
   "execution_count": 14,
   "id": "02962879",
   "metadata": {},
   "outputs": [],
   "source": [
    "y_train = to_categorical(y_train)"
   ]
  },
  {
   "cell_type": "code",
   "execution_count": 15,
   "id": "72ca2703",
   "metadata": {},
   "outputs": [
    {
     "data": {
      "text/plain": [
       "array([[0., 0., 0., 0., 0., 0., 1., 0., 0., 0.],\n",
       "       [0., 0., 0., 0., 0., 0., 0., 0., 0., 1.],\n",
       "       [0., 0., 0., 0., 0., 0., 0., 0., 0., 1.],\n",
       "       [0., 0., 0., 0., 1., 0., 0., 0., 0., 0.],\n",
       "       [0., 1., 0., 0., 0., 0., 0., 0., 0., 0.]], dtype=float32)"
      ]
     },
     "execution_count": 15,
     "metadata": {},
     "output_type": "execute_result"
    }
   ],
   "source": [
    "y_train[:5]"
   ]
  },
  {
   "cell_type": "code",
   "execution_count": 16,
   "id": "558e6e7a",
   "metadata": {},
   "outputs": [],
   "source": [
    "from keras.callbacks import EarlyStopping, ModelCheckpoint"
   ]
  },
  {
   "cell_type": "code",
   "execution_count": 17,
   "id": "5533f6c7",
   "metadata": {},
   "outputs": [],
   "source": [
    "es= EarlyStopping(monitor= 'val_loss', patience=5)\n",
    "checkpoint= ModelCheckpoint(filepath= 'ciphar_10_checkpoint.h5',\n",
    "                            save_best_only=True, \n",
    "                            save_weights_only=False\n",
    "                           )"
   ]
  },
  {
   "cell_type": "code",
   "execution_count": 18,
   "id": "1587fb57",
   "metadata": {
    "scrolled": true
   },
   "outputs": [
    {
     "name": "stdout",
     "output_type": "stream",
     "text": [
      "Epoch 1/20\n",
      "1329/1329 [==============================] - 16s 11ms/step - loss: 1.8683 - acc: 0.2937 - val_loss: 1.7524 - val_acc: 0.3797\n",
      "Epoch 2/20\n",
      "  11/1329 [..............................] - ETA: 14s - loss: 1.6536 - acc: 0.3920"
     ]
    },
    {
     "name": "stderr",
     "output_type": "stream",
     "text": [
      "C:\\Users\\Dell\\anaconda3\\Lib\\site-packages\\keras\\src\\engine\\training.py:3000: UserWarning: You are saving your model as an HDF5 file via `model.save()`. This file format is considered legacy. We recommend using instead the native Keras format, e.g. `model.save('my_model.keras')`.\n",
      "  saving_api.save_model(\n"
     ]
    },
    {
     "name": "stdout",
     "output_type": "stream",
     "text": [
      "1329/1329 [==============================] - 17s 12ms/step - loss: 1.6034 - acc: 0.4110 - val_loss: 1.6396 - val_acc: 0.4363\n",
      "Epoch 3/20\n",
      "1329/1329 [==============================] - 17s 13ms/step - loss: 1.5231 - acc: 0.4468 - val_loss: 1.5468 - val_acc: 0.4601\n",
      "Epoch 4/20\n",
      "1329/1329 [==============================] - 17s 12ms/step - loss: 1.4770 - acc: 0.4641 - val_loss: 1.5746 - val_acc: 0.4425\n",
      "Epoch 5/20\n",
      "1329/1329 [==============================] - 17s 13ms/step - loss: 1.4453 - acc: 0.4743 - val_loss: 1.5479 - val_acc: 0.4467\n",
      "Epoch 6/20\n",
      "1329/1329 [==============================] - 16s 12ms/step - loss: 1.4141 - acc: 0.4895 - val_loss: 1.4302 - val_acc: 0.4999\n",
      "Epoch 7/20\n",
      "1329/1329 [==============================] - 17s 13ms/step - loss: 1.3945 - acc: 0.4991 - val_loss: 1.4038 - val_acc: 0.4988\n",
      "Epoch 8/20\n",
      "1329/1329 [==============================] - 19s 14ms/step - loss: 1.3716 - acc: 0.5064 - val_loss: 1.4150 - val_acc: 0.5040\n",
      "Epoch 9/20\n",
      "1329/1329 [==============================] - 16s 12ms/step - loss: 1.3599 - acc: 0.5079 - val_loss: 1.4552 - val_acc: 0.4953\n",
      "Epoch 10/20\n",
      "1329/1329 [==============================] - 17s 12ms/step - loss: 1.3427 - acc: 0.5197 - val_loss: 1.3774 - val_acc: 0.5203\n",
      "Epoch 11/20\n",
      "1329/1329 [==============================] - 16s 12ms/step - loss: 1.3269 - acc: 0.5270 - val_loss: 1.3809 - val_acc: 0.5075\n",
      "Epoch 12/20\n",
      "1329/1329 [==============================] - 16s 12ms/step - loss: 1.3227 - acc: 0.5277 - val_loss: 1.3524 - val_acc: 0.5229\n",
      "Epoch 13/20\n",
      "1329/1329 [==============================] - 17s 13ms/step - loss: 1.3064 - acc: 0.5364 - val_loss: 1.3412 - val_acc: 0.5297\n",
      "Epoch 14/20\n",
      "1329/1329 [==============================] - 17s 13ms/step - loss: 1.3002 - acc: 0.5355 - val_loss: 1.3303 - val_acc: 0.5356\n",
      "Epoch 15/20\n",
      "1329/1329 [==============================] - 16s 12ms/step - loss: 1.2921 - acc: 0.5398 - val_loss: 1.3141 - val_acc: 0.5475\n",
      "Epoch 16/20\n",
      "1329/1329 [==============================] - 16s 12ms/step - loss: 1.2849 - acc: 0.5450 - val_loss: 1.3218 - val_acc: 0.5312\n",
      "Epoch 17/20\n",
      "1329/1329 [==============================] - 16s 12ms/step - loss: 1.2780 - acc: 0.5462 - val_loss: 1.3068 - val_acc: 0.5440\n",
      "Epoch 18/20\n",
      "1329/1329 [==============================] - 16s 12ms/step - loss: 1.2719 - acc: 0.5495 - val_loss: 1.3875 - val_acc: 0.5161\n",
      "Epoch 19/20\n",
      "1329/1329 [==============================] - 16s 12ms/step - loss: 1.2664 - acc: 0.5486 - val_loss: 1.3464 - val_acc: 0.5323\n",
      "Epoch 20/20\n",
      "1329/1329 [==============================] - 16s 12ms/step - loss: 1.2582 - acc: 0.5504 - val_loss: 1.3120 - val_acc: 0.5465\n"
     ]
    }
   ],
   "source": [
    "history= cnn.fit(x_train, y_train, \n",
    "          validation_split= 0.15, \n",
    "          callbacks= [es, checkpoint], \n",
    "          epochs= 20\n",
    "         )"
   ]
  },
  {
   "cell_type": "code",
   "execution_count": 19,
   "id": "c7daf09b",
   "metadata": {},
   "outputs": [
    {
     "name": "stdout",
     "output_type": "stream",
     "text": [
      "313/313 [==============================] - 1s 4ms/step\n"
     ]
    }
   ],
   "source": [
    "y_pred = cnn.predict(x_test)"
   ]
  },
  {
   "cell_type": "code",
   "execution_count": 20,
   "id": "41901250",
   "metadata": {},
   "outputs": [
    {
     "data": {
      "text/plain": [
       "array([ 1.0761437,  0.7126326,  7.0942154, 12.055044 , 13.473792 ,\n",
       "        4.1316705, 59.839897 ,  0.7461613,  0.6899896,  0.1804493],\n",
       "      dtype=float32)"
      ]
     },
     "execution_count": 20,
     "metadata": {},
     "output_type": "execute_result"
    }
   ],
   "source": [
    "y_pred[5] * 100"
   ]
  },
  {
   "cell_type": "code",
   "execution_count": 21,
   "id": "89a7e214",
   "metadata": {},
   "outputs": [
    {
     "data": {
      "text/plain": [
       "6"
      ]
     },
     "execution_count": 21,
     "metadata": {},
     "output_type": "execute_result"
    }
   ],
   "source": [
    "np.argmax(y_pred[5])"
   ]
  },
  {
   "cell_type": "code",
   "execution_count": 22,
   "id": "6c85600b",
   "metadata": {},
   "outputs": [],
   "source": [
    "y_pred_class = y_pred.argmax(axis = 1)"
   ]
  },
  {
   "cell_type": "code",
   "execution_count": 23,
   "id": "46a76120",
   "metadata": {},
   "outputs": [
    {
     "data": {
      "text/plain": [
       "6"
      ]
     },
     "execution_count": 23,
     "metadata": {},
     "output_type": "execute_result"
    }
   ],
   "source": [
    "y_pred_class[5]"
   ]
  },
  {
   "cell_type": "code",
   "execution_count": 24,
   "id": "b8f5ef0d",
   "metadata": {},
   "outputs": [],
   "source": [
    "y_pred_proba = y_pred.max(axis = 1)"
   ]
  },
  {
   "cell_type": "code",
   "execution_count": 25,
   "id": "f2648ca5",
   "metadata": {},
   "outputs": [
    {
     "data": {
      "text/plain": [
       "0.598399"
      ]
     },
     "execution_count": 25,
     "metadata": {},
     "output_type": "execute_result"
    }
   ],
   "source": [
    "y_pred_proba[5]"
   ]
  },
  {
   "cell_type": "code",
   "execution_count": 26,
   "id": "7dc81721",
   "metadata": {},
   "outputs": [
    {
     "name": "stdout",
     "output_type": "stream",
     "text": [
      "              precision    recall  f1-score   support\n",
      "\n",
      "           0       0.72      0.39      0.51      1000\n",
      "           1       0.79      0.61      0.69      1000\n",
      "           2       0.51      0.37      0.43      1000\n",
      "           3       0.34      0.51      0.41      1000\n",
      "           4       0.41      0.70      0.51      1000\n",
      "           5       0.50      0.40      0.45      1000\n",
      "           6       0.59      0.65      0.62      1000\n",
      "           7       0.82      0.47      0.60      1000\n",
      "           8       0.52      0.85      0.65      1000\n",
      "           9       0.73      0.48      0.58      1000\n",
      "\n",
      "    accuracy                           0.54     10000\n",
      "   macro avg       0.59      0.54      0.54     10000\n",
      "weighted avg       0.59      0.54      0.54     10000\n",
      "\n"
     ]
    }
   ],
   "source": [
    "print(classification_report(y_test, y_pred_class))"
   ]
  },
  {
   "cell_type": "code",
   "execution_count": 27,
   "id": "84a73162",
   "metadata": {},
   "outputs": [
    {
     "data": {
      "image/png": "[encoded data removed]",
      "text/plain": [
       "<Figure size 640x480 with 1 Axes>"
      ]
     },
     "metadata": {},
     "output_type": "display_data"
    }
   ],
   "source": [
    "image_index = 500\n",
    "plt.imshow(x_test[image_index])\n",
    "pred_obj = objects[y_pred_class[image_index]]\n",
    "proba = int(y_pred_proba[image_index] * 100)\n",
    "actual_object = objects[y_test[image_index][0]]\n",
    "plt.title(f'actual: {actual_object}, predicted: {pred_obj} ({proba})%')\n",
    "plt.show()"
   ]
  },
  {
   "cell_type": "code",
   "execution_count": null,
   "id": "374e943a",
   "metadata": {},
   "outputs": [],
   "source": []
  }
 ],
 "metadata": {
  "kernelspec": {
   "display_name": "Python 3 (ipykernel)",
   "language": "python",
   "name": "python3"
  },
  "language_info": {
   "codemirror_mode": {
    "name": "ipython",
    "version": 3
   },
   "file_extension": ".py",
   "mimetype": "text/x-python",
   "name": "python",
   "nbconvert_exporter": "python",
   "pygments_lexer": "ipython3",
   "version": "3.10.9"
  }
 },
 "nbformat": 4,
 "nbformat_minor": 5
}
