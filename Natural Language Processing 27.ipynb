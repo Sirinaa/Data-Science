{
 "cells": [
  {
   "cell_type": "markdown",
   "id": "a8393826",
   "metadata": {},
   "source": [
    "# NLP"
   ]
  },
  {
   "cell_type": "code",
   "execution_count": 1,
   "id": "6a5bd3a1",
   "metadata": {},
   "outputs": [],
   "source": [
    "import numpy as np\n",
    "import pandas as pd\n",
    "import matplotlib.pyplot as plt"
   ]
  },
  {
   "cell_type": "code",
   "execution_count": 2,
   "id": "c6a262a6",
   "metadata": {},
   "outputs": [],
   "source": [
    "import nltk"
   ]
  },
  {
   "cell_type": "code",
   "execution_count": 3,
   "id": "a3c3d2f7",
   "metadata": {},
   "outputs": [],
   "source": [
    "par = \"\"\"\n",
    "I'm ChatGPT, a state-of-the-art language model developed by OpenAI. I'm based on the GPT-3.5 architecture, which means I'm designed to understand and generate human-like text based on the input I receive. I've been trained on a wide range of internet text up until my last knowledge update in September 2021, which includes books, articles, websites, and more.\n",
    "\n",
    "I can assist with a variety of tasks, such as answering questions, generating text, providing explanations, offering creative writing assistance, and engaging in conversation on a wide range of topics. Whether you need help with information, writing, or simply want to chat, I'm here to assist you to the best of my abilities. Please feel free to ask me anything, and I'll do my best to provide you with a helpful response.\n",
    "\"\"\""
   ]
  },
  {
   "cell_type": "code",
   "execution_count": 4,
   "id": "f19759dc",
   "metadata": {},
   "outputs": [],
   "source": [
    "from nltk.tokenize import sent_tokenize, word_tokenize  # separating sentence and work is called tokenize\n",
    "from nltk.corpus import stopwords  # document\n",
    "from nltk.stem import PorterStemmer, LancasterStemmer, SnowballStemmer  "
   ]
  },
  {
   "cell_type": "code",
   "execution_count": 7,
   "id": "1ebf6a5c",
   "metadata": {},
   "outputs": [],
   "source": [
    "sentences = sent_tokenize(par)"
   ]
  },
  {
   "cell_type": "code",
   "execution_count": 6,
   "id": "f185f9ab",
   "metadata": {},
   "outputs": [
    {
     "name": "stderr",
     "output_type": "stream",
     "text": [
      "[nltk_data] Downloading package punkt to\n",
      "[nltk_data]     C:\\Users\\Dell\\AppData\\Roaming\\nltk_data...\n",
      "[nltk_data]   Unzipping tokenizers\\punkt.zip.\n"
     ]
    },
    {
     "data": {
      "text/plain": [
       "True"
      ]
     },
     "execution_count": 6,
     "metadata": {},
     "output_type": "execute_result"
    }
   ],
   "source": [
    "nltk.download('punkt')"
   ]
  },
  {
   "cell_type": "code",
   "execution_count": 8,
   "id": "1fe60ccb",
   "metadata": {},
   "outputs": [
    {
     "data": {
      "text/plain": [
       "[\"\\nI'm ChatGPT, a state-of-the-art language model developed by OpenAI.\",\n",
       " \"I'm based on the GPT-3.5 architecture, which means I'm designed to understand and generate human-like text based on the input I receive.\",\n",
       " \"I've been trained on a wide range of internet text up until my last knowledge update in September 2021, which includes books, articles, websites, and more.\",\n",
       " 'I can assist with a variety of tasks, such as answering questions, generating text, providing explanations, offering creative writing assistance, and engaging in conversation on a wide range of topics.',\n",
       " \"Whether you need help with information, writing, or simply want to chat, I'm here to assist you to the best of my abilities.\",\n",
       " \"Please feel free to ask me anything, and I'll do my best to provide you with a helpful response.\"]"
      ]
     },
     "execution_count": 8,
     "metadata": {},
     "output_type": "execute_result"
    }
   ],
   "source": [
    "sentences"
   ]
  },
  {
   "cell_type": "code",
   "execution_count": 9,
   "id": "23bbcfe9",
   "metadata": {},
   "outputs": [
    {
     "data": {
      "text/plain": [
       "6"
      ]
     },
     "execution_count": 9,
     "metadata": {},
     "output_type": "execute_result"
    }
   ],
   "source": [
    "len(sentences)"
   ]
  },
  {
   "cell_type": "code",
   "execution_count": 10,
   "id": "db71c173",
   "metadata": {},
   "outputs": [],
   "source": [
    "word_tokens = []\n",
    "\n",
    "for each_sentences in sentences:\n",
    "    tokenized = word_tokenize(each_sentences)\n",
    "    word_tokens.append(tokenized)"
   ]
  },
  {
   "cell_type": "code",
   "execution_count": 11,
   "id": "fd33fea8",
   "metadata": {},
   "outputs": [
    {
     "data": {
      "text/plain": [
       "[['I',\n",
       "  \"'m\",\n",
       "  'ChatGPT',\n",
       "  ',',\n",
       "  'a',\n",
       "  'state-of-the-art',\n",
       "  'language',\n",
       "  'model',\n",
       "  'developed',\n",
       "  'by',\n",
       "  'OpenAI',\n",
       "  '.'],\n",
       " ['I',\n",
       "  \"'m\",\n",
       "  'based',\n",
       "  'on',\n",
       "  'the',\n",
       "  'GPT-3.5',\n",
       "  'architecture',\n",
       "  ',',\n",
       "  'which',\n",
       "  'means',\n",
       "  'I',\n",
       "  \"'m\",\n",
       "  'designed',\n",
       "  'to',\n",
       "  'understand',\n",
       "  'and',\n",
       "  'generate',\n",
       "  'human-like',\n",
       "  'text',\n",
       "  'based',\n",
       "  'on',\n",
       "  'the',\n",
       "  'input',\n",
       "  'I',\n",
       "  'receive',\n",
       "  '.'],\n",
       " ['I',\n",
       "  \"'ve\",\n",
       "  'been',\n",
       "  'trained',\n",
       "  'on',\n",
       "  'a',\n",
       "  'wide',\n",
       "  'range',\n",
       "  'of',\n",
       "  'internet',\n",
       "  'text',\n",
       "  'up',\n",
       "  'until',\n",
       "  'my',\n",
       "  'last',\n",
       "  'knowledge',\n",
       "  'update',\n",
       "  'in',\n",
       "  'September',\n",
       "  '2021',\n",
       "  ',',\n",
       "  'which',\n",
       "  'includes',\n",
       "  'books',\n",
       "  ',',\n",
       "  'articles',\n",
       "  ',',\n",
       "  'websites',\n",
       "  ',',\n",
       "  'and',\n",
       "  'more',\n",
       "  '.'],\n",
       " ['I',\n",
       "  'can',\n",
       "  'assist',\n",
       "  'with',\n",
       "  'a',\n",
       "  'variety',\n",
       "  'of',\n",
       "  'tasks',\n",
       "  ',',\n",
       "  'such',\n",
       "  'as',\n",
       "  'answering',\n",
       "  'questions',\n",
       "  ',',\n",
       "  'generating',\n",
       "  'text',\n",
       "  ',',\n",
       "  'providing',\n",
       "  'explanations',\n",
       "  ',',\n",
       "  'offering',\n",
       "  'creative',\n",
       "  'writing',\n",
       "  'assistance',\n",
       "  ',',\n",
       "  'and',\n",
       "  'engaging',\n",
       "  'in',\n",
       "  'conversation',\n",
       "  'on',\n",
       "  'a',\n",
       "  'wide',\n",
       "  'range',\n",
       "  'of',\n",
       "  'topics',\n",
       "  '.'],\n",
       " ['Whether',\n",
       "  'you',\n",
       "  'need',\n",
       "  'help',\n",
       "  'with',\n",
       "  'information',\n",
       "  ',',\n",
       "  'writing',\n",
       "  ',',\n",
       "  'or',\n",
       "  'simply',\n",
       "  'want',\n",
       "  'to',\n",
       "  'chat',\n",
       "  ',',\n",
       "  'I',\n",
       "  \"'m\",\n",
       "  'here',\n",
       "  'to',\n",
       "  'assist',\n",
       "  'you',\n",
       "  'to',\n",
       "  'the',\n",
       "  'best',\n",
       "  'of',\n",
       "  'my',\n",
       "  'abilities',\n",
       "  '.'],\n",
       " ['Please',\n",
       "  'feel',\n",
       "  'free',\n",
       "  'to',\n",
       "  'ask',\n",
       "  'me',\n",
       "  'anything',\n",
       "  ',',\n",
       "  'and',\n",
       "  'I',\n",
       "  \"'ll\",\n",
       "  'do',\n",
       "  'my',\n",
       "  'best',\n",
       "  'to',\n",
       "  'provide',\n",
       "  'you',\n",
       "  'with',\n",
       "  'a',\n",
       "  'helpful',\n",
       "  'response',\n",
       "  '.']]"
      ]
     },
     "execution_count": 11,
     "metadata": {},
     "output_type": "execute_result"
    }
   ],
   "source": [
    "word_tokens"
   ]
  },
  {
   "cell_type": "code",
   "execution_count": 14,
   "id": "62e2ac24",
   "metadata": {},
   "outputs": [],
   "source": [
    "stop_words = stopwords.words('english')"
   ]
  },
  {
   "cell_type": "code",
   "execution_count": 13,
   "id": "c3bdc094",
   "metadata": {},
   "outputs": [
    {
     "name": "stderr",
     "output_type": "stream",
     "text": [
      "[nltk_data] Downloading package stopwords to\n",
      "[nltk_data]     C:\\Users\\Dell\\AppData\\Roaming\\nltk_data...\n",
      "[nltk_data]   Unzipping corpora\\stopwords.zip.\n"
     ]
    },
    {
     "data": {
      "text/plain": [
       "True"
      ]
     },
     "execution_count": 13,
     "metadata": {},
     "output_type": "execute_result"
    }
   ],
   "source": [
    "nltk.download('stopwords')"
   ]
  },
  {
   "cell_type": "code",
   "execution_count": 16,
   "id": "9afe946c",
   "metadata": {},
   "outputs": [
    {
     "data": {
      "text/plain": [
       "['i',\n",
       " 'me',\n",
       " 'my',\n",
       " 'myself',\n",
       " 'we',\n",
       " 'our',\n",
       " 'ours',\n",
       " 'ourselves',\n",
       " 'you',\n",
       " \"you're\",\n",
       " \"you've\",\n",
       " \"you'll\",\n",
       " \"you'd\",\n",
       " 'your',\n",
       " 'yours',\n",
       " 'yourself',\n",
       " 'yourselves',\n",
       " 'he',\n",
       " 'him',\n",
       " 'his',\n",
       " 'himself',\n",
       " 'she',\n",
       " \"she's\",\n",
       " 'her',\n",
       " 'hers',\n",
       " 'herself',\n",
       " 'it',\n",
       " \"it's\",\n",
       " 'its',\n",
       " 'itself',\n",
       " 'they',\n",
       " 'them',\n",
       " 'their',\n",
       " 'theirs',\n",
       " 'themselves',\n",
       " 'what',\n",
       " 'which',\n",
       " 'who',\n",
       " 'whom',\n",
       " 'this',\n",
       " 'that',\n",
       " \"that'll\",\n",
       " 'these',\n",
       " 'those',\n",
       " 'am',\n",
       " 'is',\n",
       " 'are',\n",
       " 'was',\n",
       " 'were',\n",
       " 'be',\n",
       " 'been',\n",
       " 'being',\n",
       " 'have',\n",
       " 'has',\n",
       " 'had',\n",
       " 'having',\n",
       " 'do',\n",
       " 'does',\n",
       " 'did',\n",
       " 'doing',\n",
       " 'a',\n",
       " 'an',\n",
       " 'the',\n",
       " 'and',\n",
       " 'but',\n",
       " 'if',\n",
       " 'or',\n",
       " 'because',\n",
       " 'as',\n",
       " 'until',\n",
       " 'while',\n",
       " 'of',\n",
       " 'at',\n",
       " 'by',\n",
       " 'for',\n",
       " 'with',\n",
       " 'about',\n",
       " 'against',\n",
       " 'between',\n",
       " 'into',\n",
       " 'through',\n",
       " 'during',\n",
       " 'before',\n",
       " 'after',\n",
       " 'above',\n",
       " 'below',\n",
       " 'to',\n",
       " 'from',\n",
       " 'up',\n",
       " 'down',\n",
       " 'in',\n",
       " 'out',\n",
       " 'on',\n",
       " 'off',\n",
       " 'over',\n",
       " 'under',\n",
       " 'again',\n",
       " 'further',\n",
       " 'then',\n",
       " 'once',\n",
       " 'here',\n",
       " 'there',\n",
       " 'when',\n",
       " 'where',\n",
       " 'why',\n",
       " 'how',\n",
       " 'all',\n",
       " 'any',\n",
       " 'both',\n",
       " 'each',\n",
       " 'few',\n",
       " 'more',\n",
       " 'most',\n",
       " 'other',\n",
       " 'some',\n",
       " 'such',\n",
       " 'no',\n",
       " 'nor',\n",
       " 'not',\n",
       " 'only',\n",
       " 'own',\n",
       " 'same',\n",
       " 'so',\n",
       " 'than',\n",
       " 'too',\n",
       " 'very',\n",
       " 's',\n",
       " 't',\n",
       " 'can',\n",
       " 'will',\n",
       " 'just',\n",
       " 'don',\n",
       " \"don't\",\n",
       " 'should',\n",
       " \"should've\",\n",
       " 'now',\n",
       " 'd',\n",
       " 'll',\n",
       " 'm',\n",
       " 'o',\n",
       " 're',\n",
       " 've',\n",
       " 'y',\n",
       " 'ain',\n",
       " 'aren',\n",
       " \"aren't\",\n",
       " 'couldn',\n",
       " \"couldn't\",\n",
       " 'didn',\n",
       " \"didn't\",\n",
       " 'doesn',\n",
       " \"doesn't\",\n",
       " 'hadn',\n",
       " \"hadn't\",\n",
       " 'hasn',\n",
       " \"hasn't\",\n",
       " 'haven',\n",
       " \"haven't\",\n",
       " 'isn',\n",
       " \"isn't\",\n",
       " 'ma',\n",
       " 'mightn',\n",
       " \"mightn't\",\n",
       " 'mustn',\n",
       " \"mustn't\",\n",
       " 'needn',\n",
       " \"needn't\",\n",
       " 'shan',\n",
       " \"shan't\",\n",
       " 'shouldn',\n",
       " \"shouldn't\",\n",
       " 'wasn',\n",
       " \"wasn't\",\n",
       " 'weren',\n",
       " \"weren't\",\n",
       " 'won',\n",
       " \"won't\",\n",
       " 'wouldn',\n",
       " \"wouldn't\"]"
      ]
     },
     "execution_count": 16,
     "metadata": {},
     "output_type": "execute_result"
    }
   ],
   "source": [
    "stop_words"
   ]
  },
  {
   "cell_type": "code",
   "execution_count": 17,
   "id": "7fbaa891",
   "metadata": {},
   "outputs": [
    {
     "data": {
      "text/plain": [
       "[',', '.', '!', ':', ';', '?', '', \"'\", '(', ')', '``', '\"\"', \"''\"]"
      ]
     },
     "execution_count": 17,
     "metadata": {},
     "output_type": "execute_result"
    }
   ],
   "source": [
    "common_punctuations = [',', '.', '!', ':', ';', '?', \"\", \"'\", '(',')', '``', '\"\"', \"''\"]\n",
    "common_punctuations"
   ]
  },
  {
   "cell_type": "code",
   "execution_count": 19,
   "id": "77539318",
   "metadata": {},
   "outputs": [],
   "source": [
    "word_cleaned = []\n",
    "for each_sentence in word_tokens:\n",
    "    for token_word in each_sentence:\n",
    "        token_word = token_word.lower()\n",
    "        if (token_word not in stop_words) and (token_word not in common_punctuations):\n",
    "            word_cleaned.append(token_word)"
   ]
  },
  {
   "cell_type": "code",
   "execution_count": 20,
   "id": "34be4f7e",
   "metadata": {},
   "outputs": [
    {
     "data": {
      "text/plain": [
       "[\"'m\",\n",
       " 'chatgpt',\n",
       " 'state-of-the-art',\n",
       " 'language',\n",
       " 'model',\n",
       " 'developed',\n",
       " 'openai',\n",
       " \"'m\",\n",
       " 'based',\n",
       " 'gpt-3.5',\n",
       " 'architecture',\n",
       " 'means',\n",
       " \"'m\",\n",
       " 'designed',\n",
       " 'understand',\n",
       " 'generate',\n",
       " 'human-like',\n",
       " 'text',\n",
       " 'based',\n",
       " 'input',\n",
       " 'receive',\n",
       " \"'ve\",\n",
       " 'trained',\n",
       " 'wide',\n",
       " 'range',\n",
       " 'internet',\n",
       " 'text',\n",
       " 'last',\n",
       " 'knowledge',\n",
       " 'update',\n",
       " 'september',\n",
       " '2021',\n",
       " 'includes',\n",
       " 'books',\n",
       " 'articles',\n",
       " 'websites',\n",
       " 'assist',\n",
       " 'variety',\n",
       " 'tasks',\n",
       " 'answering',\n",
       " 'questions',\n",
       " 'generating',\n",
       " 'text',\n",
       " 'providing',\n",
       " 'explanations',\n",
       " 'offering',\n",
       " 'creative',\n",
       " 'writing',\n",
       " 'assistance',\n",
       " 'engaging',\n",
       " 'conversation',\n",
       " 'wide',\n",
       " 'range',\n",
       " 'topics',\n",
       " 'whether',\n",
       " 'need',\n",
       " 'help',\n",
       " 'information',\n",
       " 'writing',\n",
       " 'simply',\n",
       " 'want',\n",
       " 'chat',\n",
       " \"'m\",\n",
       " 'assist',\n",
       " 'best',\n",
       " 'abilities',\n",
       " 'please',\n",
       " 'feel',\n",
       " 'free',\n",
       " 'ask',\n",
       " 'anything',\n",
       " \"'ll\",\n",
       " 'best',\n",
       " 'provide',\n",
       " 'helpful',\n",
       " 'response']"
      ]
     },
     "execution_count": 20,
     "metadata": {},
     "output_type": "execute_result"
    }
   ],
   "source": [
    "word_cleaned"
   ]
  },
  {
   "cell_type": "code",
   "execution_count": 21,
   "id": "9024b942",
   "metadata": {},
   "outputs": [],
   "source": [
    "word_cleaned = list(set(word_cleaned))"
   ]
  },
  {
   "cell_type": "code",
   "execution_count": 22,
   "id": "38555c16",
   "metadata": {},
   "outputs": [],
   "source": [
    "porter_steammer = PorterStemmer()\n",
    "lancaster_steammer = LancasterStemmer()\n",
    "snowball_steammer = SnowballStemmer(language= 'english')"
   ]
  },
  {
   "cell_type": "code",
   "execution_count": 27,
   "id": "56a68019",
   "metadata": {},
   "outputs": [],
   "source": [
    "steammed_tokens = []\n",
    "for each_word in word_cleaned:\n",
    "    steammed_tokens.append(lancaster_steammer.stem(each_word))"
   ]
  },
  {
   "cell_type": "code",
   "execution_count": 28,
   "id": "9ab87600",
   "metadata": {},
   "outputs": [
    {
     "data": {
      "text/plain": [
       "['train',\n",
       " 'knowledg',\n",
       " 'anyth',\n",
       " 'chatgpt',\n",
       " 'want',\n",
       " 'wheth',\n",
       " 'text',\n",
       " 'fre',\n",
       " 'assist',\n",
       " 'simply',\n",
       " \"'ll\",\n",
       " 'langu',\n",
       " 'nee',\n",
       " 'feel',\n",
       " 'bas',\n",
       " 'septemb',\n",
       " 'develop',\n",
       " 'book',\n",
       " \"'m\",\n",
       " 'internet',\n",
       " 'assist',\n",
       " 'best',\n",
       " 'human-like',\n",
       " 'wid',\n",
       " 'help',\n",
       " 'gpt-3.5',\n",
       " 'rang',\n",
       " 'help',\n",
       " 'last',\n",
       " 'off',\n",
       " 'task',\n",
       " 'provid',\n",
       " 'inform',\n",
       " 'pleas',\n",
       " 'expl',\n",
       " 'gen',\n",
       " 'abl',\n",
       " 'gen',\n",
       " 'convers',\n",
       " 'writ',\n",
       " 'ask',\n",
       " 'model',\n",
       " 'respons',\n",
       " 'vary',\n",
       " 'artic',\n",
       " 'understand',\n",
       " 'architect',\n",
       " 'includ',\n",
       " 'answ',\n",
       " 'websit',\n",
       " \"'ve\",\n",
       " 'state-of-the-art',\n",
       " 'upd',\n",
       " 'cre',\n",
       " 'mean',\n",
       " 'chat',\n",
       " 'input',\n",
       " '2021',\n",
       " 'quest',\n",
       " 'top',\n",
       " 'design',\n",
       " 'provid',\n",
       " 'eng',\n",
       " 'opena',\n",
       " 'receiv']"
      ]
     },
     "execution_count": 28,
     "metadata": {},
     "output_type": "execute_result"
    }
   ],
   "source": [
    "steammed_tokens"
   ]
  },
  {
   "cell_type": "code",
   "execution_count": 29,
   "id": "48d2ec48",
   "metadata": {},
   "outputs": [],
   "source": [
    "from nltk.tag import pos_tag #parts of speech"
   ]
  },
  {
   "cell_type": "code",
   "execution_count": 32,
   "id": "96360ee6",
   "metadata": {},
   "outputs": [],
   "source": [
    "tagged_tokens = pos_tag(word_cleaned)"
   ]
  },
  {
   "cell_type": "code",
   "execution_count": 31,
   "id": "fbbc9ef3",
   "metadata": {},
   "outputs": [
    {
     "name": "stderr",
     "output_type": "stream",
     "text": [
      "[nltk_data] Downloading package averaged_perceptron_tagger to\n",
      "[nltk_data]     C:\\Users\\Dell\\AppData\\Roaming\\nltk_data...\n",
      "[nltk_data]   Unzipping taggers\\averaged_perceptron_tagger.zip.\n"
     ]
    },
    {
     "data": {
      "text/plain": [
       "True"
      ]
     },
     "execution_count": 31,
     "metadata": {},
     "output_type": "execute_result"
    }
   ],
   "source": [
    "nltk.download('averaged_perceptron_tagger')"
   ]
  },
  {
   "cell_type": "code",
   "execution_count": 33,
   "id": "7815dc14",
   "metadata": {},
   "outputs": [
    {
     "data": {
      "text/plain": [
       "[('trained', 'VBN'),\n",
       " ('knowledge', 'NN'),\n",
       " ('anything', 'NN'),\n",
       " ('chatgpt', 'NN'),\n",
       " ('want', 'VBP'),\n",
       " ('whether', 'IN'),\n",
       " ('text', 'JJ'),\n",
       " ('free', 'JJ'),\n",
       " ('assist', 'NN'),\n",
       " ('simply', 'RB'),\n",
       " (\"'ll\", 'MD'),\n",
       " ('language', 'NN'),\n",
       " ('need', 'VB'),\n",
       " ('feel', 'NNS'),\n",
       " ('based', 'VBN'),\n",
       " ('september', 'NN'),\n",
       " ('developed', 'VBD'),\n",
       " ('books', 'NNS'),\n",
       " (\"'m\", 'VBP'),\n",
       " ('internet', 'JJ'),\n",
       " ('assistance', 'NN'),\n",
       " ('best', 'JJS'),\n",
       " ('human-like', 'JJ'),\n",
       " ('wide', 'JJ'),\n",
       " ('helpful', 'JJ'),\n",
       " ('gpt-3.5', 'JJ'),\n",
       " ('range', 'NN'),\n",
       " ('help', 'NN'),\n",
       " ('last', 'JJ'),\n",
       " ('offering', 'NN'),\n",
       " ('tasks', 'NNS'),\n",
       " ('provide', 'VBP'),\n",
       " ('information', 'NN'),\n",
       " ('please', 'NN'),\n",
       " ('explanations', 'NNS'),\n",
       " ('generating', 'VBG'),\n",
       " ('abilities', 'NNS'),\n",
       " ('generate', 'VBP'),\n",
       " ('conversation', 'NN'),\n",
       " ('writing', 'VBG'),\n",
       " ('ask', 'JJ'),\n",
       " ('model', 'NN'),\n",
       " ('response', 'NN'),\n",
       " ('variety', 'NN'),\n",
       " ('articles', 'NNS'),\n",
       " ('understand', 'VBP'),\n",
       " ('architecture', 'NN'),\n",
       " ('includes', 'VBZ'),\n",
       " ('answering', 'VBG'),\n",
       " ('websites', 'NNS'),\n",
       " (\"'ve\", 'VBP'),\n",
       " ('state-of-the-art', 'JJ'),\n",
       " ('update', 'JJ'),\n",
       " ('creative', 'JJ'),\n",
       " ('means', 'NNS'),\n",
       " ('chat', 'WP'),\n",
       " ('input', 'VBP'),\n",
       " ('2021', 'CD'),\n",
       " ('questions', 'NNS'),\n",
       " ('topics', 'NNS'),\n",
       " ('designed', 'VBD'),\n",
       " ('providing', 'VBG'),\n",
       " ('engaging', 'VBG'),\n",
       " ('openai', 'JJ'),\n",
       " ('receive', 'NN')]"
      ]
     },
     "execution_count": 33,
     "metadata": {},
     "output_type": "execute_result"
    }
   ],
   "source": [
    "tagged_tokens"
   ]
  },
  {
   "cell_type": "code",
   "execution_count": null,
   "id": "e6e06812",
   "metadata": {},
   "outputs": [],
   "source": []
  }
 ],
 "metadata": {
  "kernelspec": {
   "display_name": "Python 3 (ipykernel)",
   "language": "python",
   "name": "python3"
  },
  "language_info": {
   "codemirror_mode": {
    "name": "ipython",
    "version": 3
   },
   "file_extension": ".py",
   "mimetype": "text/x-python",
   "name": "python",
   "nbconvert_exporter": "python",
   "pygments_lexer": "ipython3",
   "version": "3.10.9"
  }
 },
 "nbformat": 4,
 "nbformat_minor": 5
}
