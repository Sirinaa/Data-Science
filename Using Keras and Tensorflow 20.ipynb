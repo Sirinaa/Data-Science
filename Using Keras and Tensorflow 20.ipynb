{
 "cells": [
  {
   "cell_type": "code",
   "execution_count": 1,
   "id": "7de9acc0",
   "metadata": {},
   "outputs": [
    {
     "data": {
      "text/plain": [
       "'2.13.0'"
      ]
     },
     "execution_count": 1,
     "metadata": {},
     "output_type": "execute_result"
    }
   ],
   "source": [
    "import numpy as np\n",
    "import pandas as pd\n",
    "import matplotlib.pyplot as plt\n",
    "import tensorflow as tf\n",
    "tf.__version__"
   ]
  },
  {
   "cell_type": "code",
   "execution_count": 2,
   "id": "35f6499d",
   "metadata": {},
   "outputs": [],
   "source": [
    "from keras.models import Sequential\n",
    "from keras.layers import Dense, ReLU, LeakyReLU\n",
    "from keras.callbacks import EarlyStopping #to stop the model training "
   ]
  },
  {
   "cell_type": "code",
   "execution_count": 3,
   "id": "cdd176e4",
   "metadata": {},
   "outputs": [],
   "source": [
    "#first few layers used for features and others are for decision making"
   ]
  },
  {
   "cell_type": "code",
   "execution_count": 4,
   "id": "972a7fb0",
   "metadata": {},
   "outputs": [],
   "source": [
    "from sklearn.preprocessing import StandardScaler\n",
    "from sklearn.model_selection import train_test_split\n",
    "from sklearn.metrics import r2_score, mean_absolute_error"
   ]
  },
  {
   "cell_type": "code",
   "execution_count": 5,
   "id": "7bb10277",
   "metadata": {},
   "outputs": [],
   "source": [
    "from sklearn.datasets import fetch_california_housing"
   ]
  },
  {
   "cell_type": "code",
   "execution_count": 6,
   "id": "614b9a0c",
   "metadata": {},
   "outputs": [],
   "source": [
    "house_data = fetch_california_housing()"
   ]
  },
  {
   "cell_type": "code",
   "execution_count": 7,
   "id": "6bce7d7b",
   "metadata": {},
   "outputs": [],
   "source": [
    "df = house_data.data\n",
    "df = pd.DataFrame(df, columns=house_data.feature_names)"
   ]
  },
  {
   "cell_type": "code",
   "execution_count": 8,
   "id": "69def64b",
   "metadata": {},
   "outputs": [],
   "source": [
    "df['Price'] = house_data.target"
   ]
  },
  {
   "cell_type": "code",
   "execution_count": 9,
   "id": "08dc18f1",
   "metadata": {},
   "outputs": [
    {
     "data": {
      "text/html": [
       "<div>\n",
       "<style scoped>\n",
       "    .dataframe tbody tr th:only-of-type {\n",
       "        vertical-align: middle;\n",
       "    }\n",
       "\n",
       "    .dataframe tbody tr th {\n",
       "        vertical-align: top;\n",
       "    }\n",
       "\n",
       "    .dataframe thead th {\n",
       "        text-align: right;\n",
       "    }\n",
       "</style>\n",
       "<table border=\"1\" class=\"dataframe\">\n",
       "  <thead>\n",
       "    <tr style=\"text-align: right;\">\n",
       "      <th></th>\n",
       "      <th>MedInc</th>\n",
       "      <th>HouseAge</th>\n",
       "      <th>AveRooms</th>\n",
       "      <th>AveBedrms</th>\n",
       "      <th>Population</th>\n",
       "      <th>AveOccup</th>\n",
       "      <th>Latitude</th>\n",
       "      <th>Longitude</th>\n",
       "      <th>Price</th>\n",
       "    </tr>\n",
       "  </thead>\n",
       "  <tbody>\n",
       "    <tr>\n",
       "      <th>0</th>\n",
       "      <td>8.3252</td>\n",
       "      <td>41.0</td>\n",
       "      <td>6.984127</td>\n",
       "      <td>1.023810</td>\n",
       "      <td>322.0</td>\n",
       "      <td>2.555556</td>\n",
       "      <td>37.88</td>\n",
       "      <td>-122.23</td>\n",
       "      <td>4.526</td>\n",
       "    </tr>\n",
       "    <tr>\n",
       "      <th>1</th>\n",
       "      <td>8.3014</td>\n",
       "      <td>21.0</td>\n",
       "      <td>6.238137</td>\n",
       "      <td>0.971880</td>\n",
       "      <td>2401.0</td>\n",
       "      <td>2.109842</td>\n",
       "      <td>37.86</td>\n",
       "      <td>-122.22</td>\n",
       "      <td>3.585</td>\n",
       "    </tr>\n",
       "    <tr>\n",
       "      <th>2</th>\n",
       "      <td>7.2574</td>\n",
       "      <td>52.0</td>\n",
       "      <td>8.288136</td>\n",
       "      <td>1.073446</td>\n",
       "      <td>496.0</td>\n",
       "      <td>2.802260</td>\n",
       "      <td>37.85</td>\n",
       "      <td>-122.24</td>\n",
       "      <td>3.521</td>\n",
       "    </tr>\n",
       "    <tr>\n",
       "      <th>3</th>\n",
       "      <td>5.6431</td>\n",
       "      <td>52.0</td>\n",
       "      <td>5.817352</td>\n",
       "      <td>1.073059</td>\n",
       "      <td>558.0</td>\n",
       "      <td>2.547945</td>\n",
       "      <td>37.85</td>\n",
       "      <td>-122.25</td>\n",
       "      <td>3.413</td>\n",
       "    </tr>\n",
       "    <tr>\n",
       "      <th>4</th>\n",
       "      <td>3.8462</td>\n",
       "      <td>52.0</td>\n",
       "      <td>6.281853</td>\n",
       "      <td>1.081081</td>\n",
       "      <td>565.0</td>\n",
       "      <td>2.181467</td>\n",
       "      <td>37.85</td>\n",
       "      <td>-122.25</td>\n",
       "      <td>3.422</td>\n",
       "    </tr>\n",
       "  </tbody>\n",
       "</table>\n",
       "</div>"
      ],
      "text/plain": [
       "   MedInc  HouseAge  AveRooms  AveBedrms  Population  AveOccup  Latitude  \\\n",
       "0  8.3252      41.0  6.984127   1.023810       322.0  2.555556     37.88   \n",
       "1  8.3014      21.0  6.238137   0.971880      2401.0  2.109842     37.86   \n",
       "2  7.2574      52.0  8.288136   1.073446       496.0  2.802260     37.85   \n",
       "3  5.6431      52.0  5.817352   1.073059       558.0  2.547945     37.85   \n",
       "4  3.8462      52.0  6.281853   1.081081       565.0  2.181467     37.85   \n",
       "\n",
       "   Longitude  Price  \n",
       "0    -122.23  4.526  \n",
       "1    -122.22  3.585  \n",
       "2    -122.24  3.521  \n",
       "3    -122.25  3.413  \n",
       "4    -122.25  3.422  "
      ]
     },
     "execution_count": 9,
     "metadata": {},
     "output_type": "execute_result"
    }
   ],
   "source": [
    "df.head()"
   ]
  },
  {
   "cell_type": "code",
   "execution_count": 10,
   "id": "539056bf",
   "metadata": {},
   "outputs": [],
   "source": [
    "import sweetviz"
   ]
  },
  {
   "cell_type": "code",
   "execution_count": 11,
   "id": "afe21651",
   "metadata": {},
   "outputs": [
    {
     "data": {
      "application/vnd.jupyter.widget-view+json": {
       "model_id": "2ae34d2d103744ce9056370615b6a1fd",
       "version_major": 2,
       "version_minor": 0
      },
      "text/plain": [
       "                                             |                                             | [  0%]   00:00 ->…"
      ]
     },
     "metadata": {},
     "output_type": "display_data"
    }
   ],
   "source": [
    "report = sweetviz.analyze(df, target_feat='Price')"
   ]
  },
  {
   "cell_type": "code",
   "execution_count": 12,
   "id": "c22a9994",
   "metadata": {},
   "outputs": [
    {
     "name": "stdout",
     "output_type": "stream",
     "text": [
      "Report california_housing.html was generated! NOTEBOOK/COLAB USERS: the web browser MAY not pop up, regardless, the report IS saved in your notebook/colab files.\n"
     ]
    }
   ],
   "source": [
    "report.show_html('california_housing.html')"
   ]
  },
  {
   "cell_type": "code",
   "execution_count": 13,
   "id": "53dae240",
   "metadata": {},
   "outputs": [],
   "source": [
    "X = df.drop(['Price'], axis= 1)\n",
    "y = df['Price']"
   ]
  },
  {
   "cell_type": "code",
   "execution_count": 14,
   "id": "dcdef300",
   "metadata": {},
   "outputs": [],
   "source": [
    "X_train, X_test, y_train, y_test =train_test_split(X, y, \n",
    "                                                   test_size= 0.2, \n",
    "                                                   random_state=666)"
   ]
  },
  {
   "cell_type": "code",
   "execution_count": 15,
   "id": "1c8519e1",
   "metadata": {},
   "outputs": [],
   "source": [
    "scaler = StandardScaler()\n",
    "X_train = scaler.fit_transform(X_train)\n",
    "X_test = scaler.transform(X_test)"
   ]
  },
  {
   "cell_type": "code",
   "execution_count": 16,
   "id": "beb9cfd2",
   "metadata": {},
   "outputs": [
    {
     "data": {
      "text/plain": [
       "(16512, 8)"
      ]
     },
     "execution_count": 16,
     "metadata": {},
     "output_type": "execute_result"
    }
   ],
   "source": [
    "X_train.shape"
   ]
  },
  {
   "cell_type": "code",
   "execution_count": 17,
   "id": "d46ec687",
   "metadata": {},
   "outputs": [],
   "source": [
    "model = Sequential()\n",
    "\n",
    "#input layer\n",
    "model.add(Dense(input_dim= 8, units= 16, activation= ReLU()))\n",
    "\n",
    "#hidden layers\n",
    "model.add(Dense(units = 8, activation=LeakyReLU(0.1)))\n",
    "model.add(Dense(units = 8, activation='relu'))\n",
    "\n",
    "#output layers\n",
    "model.add(Dense(units= 1, activation='relu'))\n",
    "\n",
    "model.compile(loss= 'mse', optimizer= 'sgd', metrics= ['mae','mse'])"
   ]
  },
  {
   "cell_type": "code",
   "execution_count": 18,
   "id": "8c61360b",
   "metadata": {},
   "outputs": [
    {
     "name": "stdout",
     "output_type": "stream",
     "text": [
      "Model: \"sequential\"\n",
      "_________________________________________________________________\n",
      " Layer (type)                Output Shape              Param #   \n",
      "=================================================================\n",
      " dense (Dense)               (None, 16)                144       \n",
      "                                                                 \n",
      " dense_1 (Dense)             (None, 8)                 136       \n",
      "                                                                 \n",
      " dense_2 (Dense)             (None, 8)                 72        \n",
      "                                                                 \n",
      " dense_3 (Dense)             (None, 1)                 9         \n",
      "                                                                 \n",
      "=================================================================\n",
      "Total params: 361 (1.41 KB)\n",
      "Trainable params: 361 (1.41 KB)\n",
      "Non-trainable params: 0 (0.00 Byte)\n",
      "_________________________________________________________________\n"
     ]
    }
   ],
   "source": [
    "model.summary()"
   ]
  },
  {
   "cell_type": "code",
   "execution_count": 19,
   "id": "497c5300",
   "metadata": {},
   "outputs": [],
   "source": [
    "es = EarlyStopping(monitor= 'val_mae', patience= 5)"
   ]
  },
  {
   "cell_type": "code",
   "execution_count": 20,
   "id": "8ebbb12a",
   "metadata": {},
   "outputs": [
    {
     "name": "stdout",
     "output_type": "stream",
     "text": [
      "Epoch 1/1000\n",
      "439/439 [==============================] - 1s 1ms/step - loss: 0.9292 - mae: 0.6595 - mse: 0.9292 - val_loss: 0.5399 - val_mae: 0.5302 - val_mse: 0.5399\n",
      "Epoch 2/1000\n",
      "439/439 [==============================] - 0s 991us/step - loss: 0.4668 - mae: 0.4912 - mse: 0.4668 - val_loss: 0.4850 - val_mae: 0.5042 - val_mse: 0.4850\n",
      "Epoch 3/1000\n",
      "439/439 [==============================] - 0s 1ms/step - loss: 0.4690 - mae: 0.4866 - mse: 0.4690 - val_loss: 0.5116 - val_mae: 0.5140 - val_mse: 0.5116\n",
      "Epoch 4/1000\n",
      "439/439 [==============================] - 0s 1ms/step - loss: 0.4340 - mae: 0.4694 - mse: 0.4340 - val_loss: 0.4566 - val_mae: 0.4770 - val_mse: 0.4566\n",
      "Epoch 5/1000\n",
      "439/439 [==============================] - 0s 1ms/step - loss: 0.4006 - mae: 0.4511 - mse: 0.4006 - val_loss: 0.4447 - val_mae: 0.4638 - val_mse: 0.4447\n",
      "Epoch 6/1000\n",
      "439/439 [==============================] - 0s 1ms/step - loss: 0.3915 - mae: 0.4447 - mse: 0.3915 - val_loss: 0.4337 - val_mae: 0.4630 - val_mse: 0.4337\n",
      "Epoch 7/1000\n",
      "439/439 [==============================] - 0s 1ms/step - loss: 0.3841 - mae: 0.4402 - mse: 0.3841 - val_loss: 0.4282 - val_mae: 0.4514 - val_mse: 0.4282\n",
      "Epoch 8/1000\n",
      "439/439 [==============================] - 0s 1ms/step - loss: 0.3773 - mae: 0.4371 - mse: 0.3773 - val_loss: 0.4258 - val_mae: 0.4659 - val_mse: 0.4258\n",
      "Epoch 9/1000\n",
      "439/439 [==============================] - 1s 1ms/step - loss: 0.3731 - mae: 0.4346 - mse: 0.3731 - val_loss: 0.4129 - val_mae: 0.4525 - val_mse: 0.4129\n",
      "Epoch 10/1000\n",
      "439/439 [==============================] - 0s 1ms/step - loss: 0.3688 - mae: 0.4323 - mse: 0.3688 - val_loss: 0.4135 - val_mae: 0.4592 - val_mse: 0.4135\n",
      "Epoch 11/1000\n",
      "439/439 [==============================] - 0s 1ms/step - loss: 0.3626 - mae: 0.4283 - mse: 0.3626 - val_loss: 0.3997 - val_mae: 0.4458 - val_mse: 0.3997\n",
      "Epoch 12/1000\n",
      "439/439 [==============================] - 0s 1ms/step - loss: 0.3600 - mae: 0.4264 - mse: 0.3600 - val_loss: 0.3963 - val_mae: 0.4371 - val_mse: 0.3963\n",
      "Epoch 13/1000\n",
      "439/439 [==============================] - 0s 1ms/step - loss: 0.3550 - mae: 0.4231 - mse: 0.3550 - val_loss: 0.3937 - val_mae: 0.4362 - val_mse: 0.3937\n",
      "Epoch 14/1000\n",
      "439/439 [==============================] - 0s 1ms/step - loss: 0.3517 - mae: 0.4215 - mse: 0.3517 - val_loss: 0.3893 - val_mae: 0.4293 - val_mse: 0.3893\n",
      "Epoch 15/1000\n",
      "439/439 [==============================] - 0s 1ms/step - loss: 0.3483 - mae: 0.4181 - mse: 0.3483 - val_loss: 0.3853 - val_mae: 0.4333 - val_mse: 0.3853\n",
      "Epoch 16/1000\n",
      "439/439 [==============================] - 1s 1ms/step - loss: 0.3464 - mae: 0.4171 - mse: 0.3464 - val_loss: 0.3776 - val_mae: 0.4264 - val_mse: 0.3776\n",
      "Epoch 17/1000\n",
      "439/439 [==============================] - 0s 1ms/step - loss: 0.3431 - mae: 0.4152 - mse: 0.3431 - val_loss: 0.3794 - val_mae: 0.4279 - val_mse: 0.3794\n",
      "Epoch 18/1000\n",
      "439/439 [==============================] - 0s 1ms/step - loss: 0.3408 - mae: 0.4135 - mse: 0.3408 - val_loss: 0.3763 - val_mae: 0.4247 - val_mse: 0.3763\n",
      "Epoch 19/1000\n",
      "439/439 [==============================] - 0s 1ms/step - loss: 0.3380 - mae: 0.4102 - mse: 0.3380 - val_loss: 0.3698 - val_mae: 0.4197 - val_mse: 0.3698\n",
      "Epoch 20/1000\n",
      "439/439 [==============================] - 0s 1ms/step - loss: 0.3409 - mae: 0.4097 - mse: 0.3409 - val_loss: 0.3704 - val_mae: 0.4239 - val_mse: 0.3704\n",
      "Epoch 21/1000\n",
      "439/439 [==============================] - 0s 1ms/step - loss: 0.3369 - mae: 0.4093 - mse: 0.3369 - val_loss: 0.3745 - val_mae: 0.4331 - val_mse: 0.3745\n",
      "Epoch 22/1000\n",
      "439/439 [==============================] - 0s 1ms/step - loss: 0.3340 - mae: 0.4078 - mse: 0.3340 - val_loss: 0.3733 - val_mae: 0.4177 - val_mse: 0.3733\n",
      "Epoch 23/1000\n",
      "439/439 [==============================] - 1s 1ms/step - loss: 0.3310 - mae: 0.4044 - mse: 0.3310 - val_loss: 0.3802 - val_mae: 0.4354 - val_mse: 0.3802\n",
      "Epoch 24/1000\n",
      "439/439 [==============================] - 1s 1ms/step - loss: 0.3301 - mae: 0.4041 - mse: 0.3301 - val_loss: 0.3975 - val_mae: 0.4645 - val_mse: 0.3975\n",
      "Epoch 25/1000\n",
      "439/439 [==============================] - 1s 1ms/step - loss: 0.3291 - mae: 0.4014 - mse: 0.3291 - val_loss: 0.3633 - val_mae: 0.4270 - val_mse: 0.3633\n",
      "Epoch 26/1000\n",
      "439/439 [==============================] - 0s 1ms/step - loss: 0.3250 - mae: 0.4007 - mse: 0.3250 - val_loss: 0.3589 - val_mae: 0.4121 - val_mse: 0.3589\n",
      "Epoch 27/1000\n",
      "439/439 [==============================] - 0s 1ms/step - loss: 0.3256 - mae: 0.3996 - mse: 0.3256 - val_loss: 0.3612 - val_mae: 0.4305 - val_mse: 0.3612\n",
      "Epoch 28/1000\n",
      "439/439 [==============================] - 0s 1ms/step - loss: 0.3222 - mae: 0.3988 - mse: 0.3222 - val_loss: 0.3619 - val_mae: 0.4086 - val_mse: 0.3619\n",
      "Epoch 29/1000\n",
      "439/439 [==============================] - 1s 1ms/step - loss: 0.3236 - mae: 0.3983 - mse: 0.3236 - val_loss: 0.3585 - val_mae: 0.4170 - val_mse: 0.3585\n",
      "Epoch 30/1000\n",
      "439/439 [==============================] - 0s 1ms/step - loss: 0.3213 - mae: 0.3966 - mse: 0.3213 - val_loss: 0.3490 - val_mae: 0.4146 - val_mse: 0.3490\n",
      "Epoch 31/1000\n",
      "439/439 [==============================] - 1s 1ms/step - loss: 0.3220 - mae: 0.3972 - mse: 0.3220 - val_loss: 0.3663 - val_mae: 0.4317 - val_mse: 0.3663\n",
      "Epoch 32/1000\n",
      "439/439 [==============================] - 0s 1ms/step - loss: 0.3191 - mae: 0.3938 - mse: 0.3191 - val_loss: 0.3572 - val_mae: 0.4078 - val_mse: 0.3572\n",
      "Epoch 33/1000\n",
      "439/439 [==============================] - 1s 1ms/step - loss: 0.3189 - mae: 0.3943 - mse: 0.3189 - val_loss: 0.3550 - val_mae: 0.4083 - val_mse: 0.3550\n",
      "Epoch 34/1000\n",
      "439/439 [==============================] - 0s 1ms/step - loss: 0.3191 - mae: 0.3936 - mse: 0.3191 - val_loss: 0.3570 - val_mae: 0.4266 - val_mse: 0.3570\n",
      "Epoch 35/1000\n",
      "439/439 [==============================] - 0s 1ms/step - loss: 0.3164 - mae: 0.3928 - mse: 0.3164 - val_loss: 0.3603 - val_mae: 0.4071 - val_mse: 0.3603\n",
      "Epoch 36/1000\n",
      "439/439 [==============================] - 1s 1ms/step - loss: 0.3146 - mae: 0.3916 - mse: 0.3146 - val_loss: 0.3548 - val_mae: 0.4036 - val_mse: 0.3548\n",
      "Epoch 37/1000\n",
      "439/439 [==============================] - 0s 1ms/step - loss: 0.3132 - mae: 0.3890 - mse: 0.3132 - val_loss: 0.3538 - val_mae: 0.4040 - val_mse: 0.3538\n",
      "Epoch 38/1000\n",
      "439/439 [==============================] - 0s 1ms/step - loss: 0.3120 - mae: 0.3895 - mse: 0.3120 - val_loss: 0.3431 - val_mae: 0.4099 - val_mse: 0.3431\n",
      "Epoch 39/1000\n",
      "439/439 [==============================] - 0s 1ms/step - loss: 0.3127 - mae: 0.3894 - mse: 0.3127 - val_loss: 0.3475 - val_mae: 0.4023 - val_mse: 0.3475\n",
      "Epoch 40/1000\n",
      "439/439 [==============================] - 0s 1ms/step - loss: 0.3106 - mae: 0.3882 - mse: 0.3106 - val_loss: 0.3659 - val_mae: 0.4336 - val_mse: 0.3659\n",
      "Epoch 41/1000\n",
      "439/439 [==============================] - 1s 1ms/step - loss: 0.3089 - mae: 0.3868 - mse: 0.3089 - val_loss: 0.3428 - val_mae: 0.4017 - val_mse: 0.3428\n",
      "Epoch 42/1000\n",
      "439/439 [==============================] - 1s 1ms/step - loss: 0.3102 - mae: 0.3878 - mse: 0.3102 - val_loss: 0.3474 - val_mae: 0.4032 - val_mse: 0.3474\n",
      "Epoch 43/1000\n",
      "439/439 [==============================] - 0s 1ms/step - loss: 0.3069 - mae: 0.3863 - mse: 0.3069 - val_loss: 0.3417 - val_mae: 0.4071 - val_mse: 0.3417\n",
      "Epoch 44/1000\n",
      "439/439 [==============================] - 0s 1ms/step - loss: 0.3060 - mae: 0.3845 - mse: 0.3060 - val_loss: 0.3530 - val_mae: 0.4060 - val_mse: 0.3530\n",
      "Epoch 45/1000\n",
      "439/439 [==============================] - 1s 1ms/step - loss: 0.3102 - mae: 0.3876 - mse: 0.3102 - val_loss: 0.3365 - val_mae: 0.3983 - val_mse: 0.3365\n",
      "Epoch 46/1000\n",
      "439/439 [==============================] - 1s 1ms/step - loss: 0.3040 - mae: 0.3834 - mse: 0.3040 - val_loss: 0.3396 - val_mae: 0.4089 - val_mse: 0.3396\n",
      "Epoch 47/1000\n",
      "439/439 [==============================] - 0s 1ms/step - loss: 0.3128 - mae: 0.3889 - mse: 0.3128 - val_loss: 0.3368 - val_mae: 0.4080 - val_mse: 0.3368\n",
      "Epoch 48/1000\n",
      "439/439 [==============================] - 0s 1ms/step - loss: 0.3058 - mae: 0.3857 - mse: 0.3058 - val_loss: 0.3394 - val_mae: 0.4018 - val_mse: 0.3394\n",
      "Epoch 49/1000\n",
      "439/439 [==============================] - 0s 1ms/step - loss: 0.3046 - mae: 0.3826 - mse: 0.3046 - val_loss: 0.3363 - val_mae: 0.4046 - val_mse: 0.3363\n",
      "Epoch 50/1000\n",
      "439/439 [==============================] - 0s 1ms/step - loss: 0.3028 - mae: 0.3823 - mse: 0.3028 - val_loss: 0.3473 - val_mae: 0.4055 - val_mse: 0.3473\n"
     ]
    }
   ],
   "source": [
    "history = model.fit(X_train, y_train, \n",
    "                    validation_split=0.15, #test_sixe\n",
    "                    epochs= 1000, #iteration\n",
    "                    callbacks=[es],  #stopping \n",
    "                    use_multiprocessing= True, \n",
    "                    workers= -1\n",
    "                   )"
   ]
  },
  {
   "cell_type": "code",
   "execution_count": 21,
   "id": "ba5871f5",
   "metadata": {},
   "outputs": [
    {
     "data": {
      "text/plain": [
       "dict_keys(['loss', 'mae', 'mse', 'val_loss', 'val_mae', 'val_mse'])"
      ]
     },
     "execution_count": 21,
     "metadata": {},
     "output_type": "execute_result"
    }
   ],
   "source": [
    "history.history.keys()"
   ]
  },
  {
   "cell_type": "code",
   "execution_count": 22,
   "id": "a3d8a72c",
   "metadata": {},
   "outputs": [
    {
     "data": {
      "image/png": "[encoded data removed]",
      "text/plain": [
       "<Figure size 640x480 with 1 Axes>"
      ]
     },
     "metadata": {},
     "output_type": "display_data"
    }
   ],
   "source": [
    "plt.xlabel('Epochs')\n",
    "plt.ylabel('Loss')\n",
    "\n",
    "plt.plot(history.history['loss'], c= 'b')\n",
    "plt.plot(history.history['val_loss'], c= 'r')\n",
    "\n",
    "plt.show()"
   ]
  },
  {
   "cell_type": "code",
   "execution_count": 23,
   "id": "a25901f5",
   "metadata": {},
   "outputs": [
    {
     "data": {
      "image/png": "[encoded data removed]",
      "text/plain": [
       "<Figure size 640x480 with 1 Axes>"
      ]
     },
     "metadata": {},
     "output_type": "display_data"
    }
   ],
   "source": [
    "plt.xlabel('Epochs')\n",
    "plt.ylabel('mae')\n",
    "\n",
    "plt.plot(history.history['mae'], c= 'b')\n",
    "plt.plot(history.history['val_mae'], c= 'r')\n",
    "\n",
    "plt.show()"
   ]
  },
  {
   "cell_type": "code",
   "execution_count": 24,
   "id": "5f8367e8",
   "metadata": {},
   "outputs": [
    {
     "data": {
      "image/png": "[encoded data removed]",
      "text/plain": [
       "<Figure size 640x480 with 1 Axes>"
      ]
     },
     "metadata": {},
     "output_type": "display_data"
    }
   ],
   "source": [
    "plt.xlabel('Epochs')\n",
    "plt.ylabel('mse')\n",
    "\n",
    "plt.plot(history.history['mse'], c= 'b')\n",
    "plt.plot(history.history['val_mse'], c= 'r')\n",
    "\n",
    "plt.show()"
   ]
  },
  {
   "cell_type": "code",
   "execution_count": 25,
   "id": "e454fdae",
   "metadata": {},
   "outputs": [
    {
     "name": "stdout",
     "output_type": "stream",
     "text": [
      "129/129 [==============================] - 0s 758us/step\n"
     ]
    }
   ],
   "source": [
    "y_pred = model.predict(X_test)"
   ]
  },
  {
   "cell_type": "code",
   "execution_count": 26,
   "id": "891762ec",
   "metadata": {},
   "outputs": [
    {
     "data": {
      "text/plain": [
       "0.7409661583783274"
      ]
     },
     "execution_count": 26,
     "metadata": {},
     "output_type": "execute_result"
    }
   ],
   "source": [
    "r2_score(y_test, y_pred)"
   ]
  },
  {
   "cell_type": "code",
   "execution_count": null,
   "id": "2fbabd20",
   "metadata": {},
   "outputs": [],
   "source": []
  }
 ],
 "metadata": {
  "kernelspec": {
   "display_name": "Python 3 (ipykernel)",
   "language": "python",
   "name": "python3"
  },
  "language_info": {
   "codemirror_mode": {
    "name": "ipython",
    "version": 3
   },
   "file_extension": ".py",
   "mimetype": "text/x-python",
   "name": "python",
   "nbconvert_exporter": "python",
   "pygments_lexer": "ipython3",
   "version": "3.10.9"
  }
 },
 "nbformat": 4,
 "nbformat_minor": 5
}
